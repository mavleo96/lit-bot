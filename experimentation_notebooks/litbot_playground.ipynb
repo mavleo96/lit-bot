{
 "cells": [
  {
   "cell_type": "code",
   "execution_count": 155,
   "metadata": {},
   "outputs": [],
   "source": [
    "import pandas as pd\n",
    "import numpy as np\n",
    "import itertools\n",
    "import json\n",
    "import copy\n",
    "\n",
    "class LitBot:\n",
    "    EPSILON = 0.01\n",
    "    def __init__(self, game_id, team_id, player_id, player_count, game_state_array=None, fake_game_seed = None):\n",
    "        self.game_id = game_id\n",
    "        self.team_id = team_id\n",
    "        self.player_id = player_id\n",
    "        self.player_count = player_count\n",
    "\n",
    "        self.encoding = {\n",
    "            \"set_id\" : {\n",
    "                0 : \"lower_hearts\",\n",
    "                1 : \"lower_diamonds\",\n",
    "                2 : \"lower_spades\",\n",
    "                3 : \"lower_clubs\",\n",
    "                4 : \"upper_hearts\",\n",
    "                5 : \"upper_diamonds\",\n",
    "                6 : \"upper_spades\",\n",
    "                7 : \"upper_clubs\",\n",
    "            },\n",
    "            \"set_id_type\" : {\n",
    "                0 : \"lower\",\n",
    "                1 : \"lower\",\n",
    "                2 : \"lower\",\n",
    "                3 : \"lower\",\n",
    "                4 : \"upper\",\n",
    "                5 : \"upper\",\n",
    "                6 : \"upper\",\n",
    "                7 : \"upper\",\n",
    "            },\n",
    "            \"card_id\" : {\n",
    "                \"lower\" : {\n",
    "                    0 : \"ace\",\n",
    "                    1 : \"two\",\n",
    "                    2 : \"three\",\n",
    "                    3 : \"four\",\n",
    "                    4 : \"five\",\n",
    "                    5 : \"six\",\n",
    "                },\n",
    "                \"upper\" : {\n",
    "                    0 : \"eight\",\n",
    "                    1 : \"nine\",\n",
    "                    2 : \"ten\",\n",
    "                    3 : \"jack\",\n",
    "                    4 : \"queen\",\n",
    "                    5 : \"king\",\n",
    "                }\n",
    "            }\n",
    "        }\n",
    "        if fake_game_seed is not None:\n",
    "            (\n",
    "                self._fake_initial_game_state_array,\n",
    "                self._fake_initial_card_location_array\n",
    "            ) =  self.initialize_fake_game(fake_game_seed)\n",
    "            self.initialize_matrix(self.team_id, self.player_id, self._fake_initial_game_state_array[0, 0])\n",
    "        elif game_state_array is not None:\n",
    "            self.initialize_matrix(self.team_id, self.player_id, game_state_array)\n",
    "   \n",
    "    def initialize_fake_game(self, fake_game_seed):\n",
    "        \n",
    "        np.random.seed(fake_game_seed)\n",
    "        card_location_array = np.random.choice(range(self.player_count), (8,6))\n",
    "        card_location_array_team = card_location_array%2\n",
    "        card_location_array_player = card_location_array//2\n",
    "\n",
    "        game_state_array = np.zeros((2, self.player_count//2, 8, 6))\n",
    "        for set_id, card_id in itertools.product(range(8), range(6)):\n",
    "            game_state_array[\n",
    "                card_location_array_team[set_id, card_id],\n",
    "                card_location_array_player[set_id, card_id],\n",
    "                set_id,        \n",
    "                card_id\n",
    "            ] = 1\n",
    "        \n",
    "        return game_state_array, card_location_array\n",
    "\n",
    "    def initialize_matrix(self, team_id, player_id, player_array):\n",
    "        \n",
    "        self.truth_matrix = np.full((2, self.player_count//2, 8, 6), LitBot.EPSILON)\n",
    "        self.truth_matrix[team_id, player_id, :, :] = player_array\n",
    "        self.truth_matrix[team_id, [i for i in np.arange(self.player_count//2) if i != player_id ], :, :] -= player_array*LitBot.EPSILON\n",
    "        self.truth_matrix[0 if team_id == 1 else 1, [i for i in np.arange(self.player_count//2)], :, :] -= player_array*LitBot.EPSILON\n",
    "        \n",
    "        self.inference_matrix = copy.deepcopy(self.truth_matrix)\n",
    "\n",
    "        self.active_cards_matrix = np.zeros((8, 6))\n",
    "        self.active_sets_matrix = np.zeros(8)\n",
    "        self.recent_card_array = np.full((8, 2), -1)\n",
    "\n",
    "        self.player_card_counter = np.full((2, self.player_count//2), 48//self.player_count)\n",
    "        self.player_set_card_counter = np.full((2, self.player_count//2, 8), LitBot.EPSILON)\n",
    "\n",
    "        self.prob_matrix = np.zeros((0, 2, self.player_count//2, 8, 6))\n",
    "        self.prob_matrix = self.update_prob_matrix(self.truth_matrix)\n",
    "\n",
    "        # self.total_shannon_info = -np.log2(np.full((8,6), 1/self.player_count))\n",
    "        # self.shannon_info_matrix = self.update_shannon_info_matrix(self.prob_matrix)\n",
    "        \n",
    "        \n",
    "    def update_prob_matrix(self, truth_matrix):\n",
    "\n",
    "        prob_matrix = np.zeros((1, 2, self.player_count//2, 8, 6))\n",
    "        prob_matrix[0, :, :, :, :] += truth_matrix\n",
    "\n",
    "        for set_id, card_id in itertools.product(range(0,8), range(0,6)):\n",
    "            prob_matrix[0, :, :, set_id, card_id] = np.where(\n",
    "                truth_matrix[:, :, set_id, card_id] == LitBot.EPSILON,\n",
    "                LitBot.EPSILON/truth_matrix[:, :, set_id, card_id].sum(),\n",
    "                truth_matrix[:, :, set_id, card_id]\n",
    "            )\n",
    "                \n",
    "        # self.prob_matrix = prob_matrix\n",
    "        return prob_matrix\n",
    "\n",
    "    def update_shannon_info_matrix(self, prob_matrix):\n",
    "\n",
    "        uncertainity_matrix = prob_matrix.max(axis=(0, 1), keepdims=True)\n",
    "        shannon_info_matrix = self.total_shannon_info + np.log2(uncertainity_matrix)\n",
    "\n",
    "        # self.shannon_info_matrix = shannon_info_matrix\n",
    "        return shannon_info_matrix\n",
    "\n",
    "    def update_active_sets(self, set_id, card_id, result):\n",
    "        self.active_sets_matrix[set_id] = 1\n",
    "        if result == 1:\n",
    "            print(\"removed active card\")\n",
    "            self.active_cards_matrix[set_id, card_id] = 0\n",
    "        else:\n",
    "            print(\"added active card\")\n",
    "            self.active_cards_matrix[set_id, card_id] = 1\n",
    "\n",
    "    def update_inference_matrix(self, ask_player_id, ask_team_id, set_id, card_id):\n",
    "        # if self.active_cards_matrix[set_id].sum() > 0:\n",
    "        #     if self.active_cards_matrix[set_id, card_id] == 0:\n",
    "        #         self.inference_matrix[\n",
    "        #             ask_player_id,\n",
    "        #             set_id,\n",
    "        #             np.where(self.active_cards_matrix[set_id] == 1)[0].tolist()\n",
    "        #         ] = 1/self.active_cards_matrix[set_id].sum()\n",
    "        \n",
    "        if (self.recent_card_array[set_id, 0] != card_id) and (self.recent_card_array[set_id, 1] == ask_team_id) and (self.active_cards_matrix[set_id, self.recent_card_array[set_id, 0]] == 1):\n",
    "            print(\"updated deep inference matrix\")\n",
    "            self.inference_matrix[\n",
    "                ask_team_id,\n",
    "                ask_player_id,\n",
    "                set_id,\n",
    "                self.recent_card_array[set_id, 0]\n",
    "            ] = 1\n",
    "\n",
    "    def update_player_card_count(self, ask_team_id, ask_player_id, ans_team_id, ans_player_id, set_id, card_id, result):\n",
    "\n",
    "        if self.player_set_card_counter[ask_team_id, ask_player_id, set_id] == LitBot.EPSILON:\n",
    "            print(\"new player set combination detected\")\n",
    "            self.player_set_card_counter[ask_team_id, ask_player_id, set_id] = 1\n",
    "\n",
    "        if result == 1:\n",
    "            print(\"updated card count\")\n",
    "            self.player_card_counter[ask_team_id, ask_player_id] += 1\n",
    "            self.player_card_counter[ans_team_id, ans_player_id] -= 1\n",
    "\n",
    "            print(\"updated player set card count\")\n",
    "            self.player_set_card_counter[ask_team_id, ask_player_id, set_id] += 1\n",
    "\n",
    "        self.truth_matrix_completeness_inference()\n",
    "        self.check_count_completeness_inference()\n",
    "\n",
    "    def truth_matrix_completeness_inference(self):\n",
    "\n",
    "        for set_id, card_id in itertools.product(range(0,8), range(0,6)):\n",
    "            if self.inference_matrix[:, :, set_id, card_id].sum() == LitBot.EPSILON:\n",
    "                print(\"updating truth matrices on completeness logic\")\n",
    "                team_id = np.argwhere(self.inference_matrix[:, :, set_id, card_id] == LitBot.EPSILON)[0][0]\n",
    "                player_id = np.argwhere(self.inference_matrix[:, :, set_id, card_id] == LitBot.EPSILON)[0][1]\n",
    "                self.inference_matrix[team_id, player_id, set_id, card_id] = 1\n",
    "                self.truth_matrix[team_id, player_id, set_id, card_id] = 1\n",
    "\n",
    "    def check_count_completeness_inference(self):\n",
    "        \n",
    "        player_set_card_count = np.where(self.player_set_card_counter == LitBot.EPSILON, 0, self.player_set_card_counter)\n",
    "\n",
    "        # set completeness\n",
    "        set_card_count = player_set_card_count.sum(axis=(0, 1))\n",
    "        completed_sets = np.argwhere(set_card_count==6).reshape(-1).tolist()\n",
    "\n",
    "\n",
    "        for set_id in completed_sets:\n",
    "            print(f\"set_id {set_id} is semi certain now\")\n",
    "            null_players = np.argwhere(player_set_card_count[:, :, set_id] == 0).tolist()\n",
    "            for team_id, player_id in null_players:\n",
    "                print(f\"team_id {team_id} player_id {player_id} doesn't have set_id {set_id}\")\n",
    "                self.truth_matrix[team_id, player_id, set_id, :] = 0\n",
    "                # np.where(self.truth_matrix[team_id, player_id, set_id, :] == LitBot.EPSILON, 0, self.truth_matrix[:, :, set_id, :])\n",
    "                self.inference_matrix[team_id, player_id, set_id, :] = 0\n",
    "                # np.where(self.inference_matrix[:, :, set_id, :] == LitBot.EPSILON, 0, self.inference_matrix[:, :, set_id, :])\n",
    "\n",
    "        # player card completeness\n",
    "        player_card_count = player_set_card_count.sum(axis=(2))\n",
    "        completed_players = np.argwhere(player_card_count==self.player_card_counter).tolist()\n",
    "        \n",
    "        for team_id, player_id in completed_players:\n",
    "            print(f\"team_id {team_id} player_id {player_id}  is semi certain now\")\n",
    "            null_sets = np.argwhere(player_set_card_count[team_id, player_id, :] == 0).tolist()\n",
    "            for set_id in null_sets:\n",
    "                print(f\"team_id {team_id} player_id {player_id} doesn't have set_id {set_id}\")\n",
    "                self.truth_matrix[team_id, player_id, set_id, :] = 0\n",
    "                # np.where(self.truth_matrix[team_id, player_id, :, :] == LitBot.EPSILON, 0, self.truth_matrix[team_id, player_id, :, :])\n",
    "                self.inference_matrix[team_id, player_id, set_id, :] = 0\n",
    "                # np.where(self.inference_matrix[team_id, player_id, :, :] == LitBot.EPSILON, 0, self.inference_matrix[team_id, player_id, :, :])\n",
    "\n",
    "    def update_game(self, game_action_dict, stop = True):\n",
    "        \n",
    "        if game_action_dict[\"action\"] == \"ask_card\":\n",
    "\n",
    "            ask_team_id = game_action_dict[\"by_team\"]\n",
    "            ans_team_id = game_action_dict[\"to_team\"]\n",
    "            ask_player_id = game_action_dict[\"by\"]\n",
    "            ans_player_id = game_action_dict[\"to\"]\n",
    "            set_id = game_action_dict[\"set_id\"]\n",
    "            card_id = game_action_dict[\"card_id\"]\n",
    "            result = game_action_dict[\"result\"]\n",
    "\n",
    "            if result == 1:\n",
    "                print(\"updated truth matrix 1\")\n",
    "                self.truth_matrix[ask_team_id, ask_player_id, set_id, card_id] = 1\n",
    "                self.truth_matrix[ask_team_id, [i for i in np.arange(self.player_count//2) if i != ask_player_id ], set_id, card_id] = 0\n",
    "                self.truth_matrix[ans_team_id, [i for i in np.arange(self.player_count//2)], set_id, card_id] = 0\n",
    "\n",
    "                print(\"updated inference matrix 1\")\n",
    "                self.inference_matrix[ask_team_id, ask_player_id, set_id, card_id] = 1\n",
    "                self.inference_matrix[ask_team_id, [i for i in np.arange(self.player_count//2) if i != ask_player_id ], set_id, card_id] = 0\n",
    "                self.inference_matrix[ans_team_id, [i for i in np.arange(self.player_count//2)], set_id, card_id] = 0\n",
    "\n",
    "\n",
    "            else:\n",
    "                print(\"updated truth matrix 0\")\n",
    "                self.truth_matrix[ask_team_id, ask_player_id, set_id, card_id] = 0\n",
    "                self.truth_matrix[ans_team_id, ans_player_id, set_id, card_id] = 0\n",
    "                print(\"updated inference matrix 0\")\n",
    "                self.inference_matrix[ask_team_id, ask_player_id, set_id, card_id] = 0\n",
    "                self.inference_matrix[ans_team_id, ans_player_id, set_id, card_id] = 0\n",
    "                \n",
    "                self.update_inference_matrix(ask_player_id, ask_team_id, set_id, card_id)\n",
    "\n",
    "            self.update_player_card_count(ask_team_id, ask_player_id, ans_team_id, ans_player_id, set_id, card_id, result)\n",
    "\n",
    "\n",
    "            self.update_active_sets(set_id, card_id, result)\n",
    "            self.recent_card_array[set_id, 0] = card_id\n",
    "            self.recent_card_array[set_id, 1] = ask_team_id\n",
    "            self.prob_matrix = self.update_prob_matrix(self.truth_matrix)\n",
    "            # self.shannon_info_matrix = self.update_shannon_info_matrix(self.prob_matrix)\n",
    "        \n",
    "        if game_action_dict[\"action\"] == \"call_set\":\n",
    "\n",
    "\n",
    "            {'action': 'call_set',\n",
    "            'by_team': 0,\n",
    "            'by': 2,\n",
    "            'set_id': 4,\n",
    "            'card_locations': {'0': 1, '1': 0, '2': 2, '3': 0, '4': 1, '5': 2},\n",
    "            'result': 1},\n",
    "\n",
    "            team_id = game_action_dict[\"by_team\"]\n",
    "            set_id = game_action_dict[\"set_id\"]\n",
    "            card_locations = game_action_dict[\"card_locations\"]\n",
    "\n",
    "            for card_id, player_id in card_locations.items():\n",
    "                print(\"updated truth matrix callset\")\n",
    "                self.truth_matrix[team_id, player_id, set_id, int(card_id)] = 1\n",
    "                self.truth_matrix[team_id, [i for i in np.arange(self.player_count//2) if i != player_id ], set_id, int(card_id)] = 0\n",
    "                self.truth_matrix[0 if team_id==0 else 1, [i for i in np.arange(self.player_count//2)], set_id, int(card_id)] = 0\n",
    "\n",
    "                print(\"updated inference matrix callset\")\n",
    "                self.inference_matrix[team_id, player_id, set_id, int(card_id)] = 1\n",
    "                self.inference_matrix[team_id, [i for i in np.arange(self.player_count//2) if i != player_id ], set_id, int(card_id)] = 0\n",
    "                self.inference_matrix[0 if team_id==0 else 1, [i for i in np.arange(self.player_count//2)], set_id, int(card_id)] = 0\n",
    "\n",
    "                \n",
    "\n",
    "# truth_matrix (player_id, set_id, card_id)\n",
    "# prob_matrix  (0, player_id, set_id, card_id)"
   ]
  },
  {
   "cell_type": "code",
   "execution_count": 156,
   "metadata": {},
   "outputs": [],
   "source": [
    "with open(\"gameActionData.json\") as f:\n",
    "    action_data = json.loads(f.read())"
   ]
  },
  {
   "cell_type": "code",
   "execution_count": 157,
   "metadata": {},
   "outputs": [],
   "source": [
    "bot1 = LitBot(\n",
    "    action_data[\"game_id\"],\n",
    "    1,\n",
    "    1,\n",
    "    action_data[\"player_count\"],\n",
    "    game_state_array=np.where(np.array(action_data[\"card_location_array\"])==4, 1, 0)\n",
    ")"
   ]
  },
  {
   "cell_type": "code",
   "execution_count": 158,
   "metadata": {},
   "outputs": [],
   "source": [
    "# for move_id, move in action_data[\"actions\"].items():\n",
    "#     bot1.update_game(move)"
   ]
  },
  {
   "cell_type": "code",
   "execution_count": 159,
   "metadata": {},
   "outputs": [
    {
     "data": {
      "text/plain": [
       "array([[[0.01, 0.01, 0.01, 0.  , 0.01, 0.01],\n",
       "        [0.01, 0.01, 0.01, 0.  , 0.01, 0.01],\n",
       "        [0.01, 0.01, 0.01, 0.  , 0.01, 0.01]],\n",
       "\n",
       "       [[0.01, 0.01, 0.01, 0.  , 0.01, 0.01],\n",
       "        [0.  , 0.  , 0.  , 1.  , 0.  , 0.  ],\n",
       "        [0.01, 0.01, 0.01, 0.  , 0.01, 0.01]]])"
      ]
     },
     "execution_count": 159,
     "metadata": {},
     "output_type": "execute_result"
    }
   ],
   "source": [
    "bot1.truth_matrix[:, :, 1, :]"
   ]
  },
  {
   "cell_type": "code",
   "execution_count": 160,
   "metadata": {},
   "outputs": [
    {
     "name": "stdout",
     "output_type": "stream",
     "text": [
      "updated truth matrix 0\n",
      "updated inference matrix 0\n",
      "new player set combination detected\n",
      "added active card\n",
      "updated truth matrix 1\n",
      "updated inference matrix 1\n",
      "new player set combination detected\n",
      "updated card count\n",
      "updated player set card count\n",
      "removed active card\n",
      "updated truth matrix 0\n",
      "updated inference matrix 0\n",
      "added active card\n",
      "updated truth matrix 0\n",
      "updated inference matrix 0\n",
      "new player set combination detected\n",
      "added active card\n",
      "updated truth matrix 0\n",
      "updated inference matrix 0\n",
      "new player set combination detected\n",
      "added active card\n",
      "updated truth matrix 0\n",
      "updated inference matrix 0\n",
      "updating truth matrices on completeness logic\n",
      "added active card\n",
      "updated truth matrix 1\n",
      "updated inference matrix 1\n",
      "new player set combination detected\n",
      "updated card count\n",
      "updated player set card count\n",
      "removed active card\n",
      "updated truth matrix 0\n",
      "updated inference matrix 0\n",
      "added active card\n",
      "updated truth matrix 0\n",
      "updated inference matrix 0\n",
      "updated deep inference matrix\n",
      "new player set combination detected\n",
      "added active card\n",
      "updated truth matrix 0\n",
      "updated inference matrix 0\n",
      "added active card\n",
      "updated truth matrix 0\n",
      "updated inference matrix 0\n",
      "updated deep inference matrix\n",
      "added active card\n",
      "updated truth matrix 0\n",
      "updated inference matrix 0\n",
      "updated deep inference matrix\n",
      "added active card\n",
      "updated truth matrix 0\n",
      "updated inference matrix 0\n",
      "updated deep inference matrix\n",
      "added active card\n",
      "updated truth matrix 0\n",
      "updated inference matrix 0\n",
      "new player set combination detected\n",
      "added active card\n",
      "updated truth matrix 0\n",
      "updated inference matrix 0\n",
      "new player set combination detected\n",
      "added active card\n"
     ]
    },
    {
     "name": "stderr",
     "output_type": "stream",
     "text": [
      "C:\\Users\\40102956\\AppData\\Local\\Temp\\ipykernel_26768\\1093327658.py:113: RuntimeWarning: divide by zero encountered in double_scalars\n",
      "  LitBot.EPSILON/truth_matrix[:, :, set_id, card_id].sum(),\n"
     ]
    }
   ],
   "source": [
    "i = 0 \n",
    "while i<15:\n",
    "    bot1.update_game(action_data[\"actions\"][str(i)])\n",
    "    i += 1   "
   ]
  },
  {
   "cell_type": "code",
   "execution_count": 161,
   "metadata": {},
   "outputs": [],
   "source": [
    "move_id = 15"
   ]
  },
  {
   "cell_type": "code",
   "execution_count": 162,
   "metadata": {},
   "outputs": [
    {
     "data": {
      "text/plain": [
       "{'action': 'call_set',\n",
       " 'by_team': 0,\n",
       " 'by': 2,\n",
       " 'set_id': 6,\n",
       " 'card_locations': {'0': 1, '1': 0, '2': 2, '3': 0, '4': 1, '5': 2},\n",
       " 'result': 1}"
      ]
     },
     "execution_count": 162,
     "metadata": {},
     "output_type": "execute_result"
    }
   ],
   "source": [
    "action_data[\"actions\"][str(move_id)]"
   ]
  },
  {
   "cell_type": "code",
   "execution_count": 163,
   "metadata": {},
   "outputs": [],
   "source": [
    "set_id = action_data[\"actions\"][str(move_id)][\"set_id\"]"
   ]
  },
  {
   "cell_type": "code",
   "execution_count": 164,
   "metadata": {},
   "outputs": [
    {
     "data": {
      "text/plain": [
       "(array([[0., 0., 0., 0., 0., 0.],\n",
       "        [0., 0., 0., 0., 0., 0.],\n",
       "        [1., 0., 0., 0., 0., 0.],\n",
       "        [1., 0., 1., 0., 0., 1.],\n",
       "        [0., 0., 1., 0., 0., 0.],\n",
       "        [0., 0., 0., 0., 0., 0.],\n",
       "        [1., 0., 0., 0., 1., 1.],\n",
       "        [0., 0., 0., 0., 0., 0.]]),\n",
       " array([0., 0., 1., 1., 1., 0., 1., 0.]))"
      ]
     },
     "execution_count": 164,
     "metadata": {},
     "output_type": "execute_result"
    }
   ],
   "source": [
    "bot1.active_cards_matrix, bot1.active_sets_matrix"
   ]
  },
  {
   "cell_type": "code",
   "execution_count": 165,
   "metadata": {},
   "outputs": [
    {
     "data": {
      "text/plain": [
       "(array([[[0.  , 0.  , 0.  , 0.  , 0.  , 0.01],\n",
       "         [0.  , 1.  , 0.  , 0.  , 0.  , 0.  ],\n",
       "         [0.  , 0.  , 0.  , 1.  , 0.01, 0.01]],\n",
       " \n",
       "        [[0.  , 0.  , 0.  , 0.  , 0.  , 0.01],\n",
       "         [0.  , 0.  , 1.  , 0.  , 0.  , 0.  ],\n",
       "         [0.  , 0.  , 0.  , 0.  , 0.01, 0.  ]]]),\n",
       " array([[[0.  , 0.  , 0.  , 0.  , 0.  , 0.01],\n",
       "         [1.  , 1.  , 0.  , 0.  , 0.  , 0.  ],\n",
       "         [0.  , 0.  , 0.  , 1.  , 0.01, 0.01]],\n",
       " \n",
       "        [[0.  , 0.  , 0.  , 0.  , 0.  , 0.01],\n",
       "         [0.  , 0.  , 1.  , 0.  , 0.  , 0.  ],\n",
       "         [0.  , 0.  , 0.  , 0.  , 0.01, 0.  ]]]))"
      ]
     },
     "execution_count": 165,
     "metadata": {},
     "output_type": "execute_result"
    }
   ],
   "source": [
    "bot1.truth_matrix[:, :, set_id, :], bot1.inference_matrix[:, :, set_id, :]"
   ]
  },
  {
   "cell_type": "code",
   "execution_count": 166,
   "metadata": {},
   "outputs": [
    {
     "name": "stdout",
     "output_type": "stream",
     "text": [
      "updated truth matrix callset\n",
      "updated inference matrix callset\n",
      "updated truth matrix callset\n",
      "updated inference matrix callset\n",
      "updated truth matrix callset\n",
      "updated inference matrix callset\n",
      "updated truth matrix callset\n",
      "updated inference matrix callset\n",
      "updated truth matrix callset\n",
      "updated inference matrix callset\n",
      "updated truth matrix callset\n",
      "updated inference matrix callset\n"
     ]
    }
   ],
   "source": [
    "bot1.update_game(action_data[\"actions\"][str(move_id)])"
   ]
  },
  {
   "cell_type": "code",
   "execution_count": 167,
   "metadata": {},
   "outputs": [
    {
     "data": {
      "text/plain": [
       "(array([[0., 0., 0., 0., 0., 0.],\n",
       "        [0., 0., 0., 0., 0., 0.],\n",
       "        [1., 0., 0., 0., 0., 0.],\n",
       "        [1., 0., 1., 0., 0., 1.],\n",
       "        [0., 0., 1., 0., 0., 0.],\n",
       "        [0., 0., 0., 0., 0., 0.],\n",
       "        [1., 0., 0., 0., 1., 1.],\n",
       "        [0., 0., 0., 0., 0., 0.]]),\n",
       " array([0., 0., 1., 1., 1., 0., 1., 0.]))"
      ]
     },
     "execution_count": 167,
     "metadata": {},
     "output_type": "execute_result"
    }
   ],
   "source": [
    "bot1.active_cards_matrix, bot1.active_sets_matrix"
   ]
  },
  {
   "cell_type": "code",
   "execution_count": 168,
   "metadata": {},
   "outputs": [
    {
     "data": {
      "text/plain": [
       "(array([[[0.  , 0.  , 0.  , 0.  , 0.  , 0.  ],\n",
       "         [0.  , 0.  , 0.  , 0.  , 0.  , 0.  ],\n",
       "         [0.  , 0.  , 0.  , 0.  , 0.  , 0.  ]],\n",
       " \n",
       "        [[0.  , 0.  , 0.  , 0.  , 0.  , 0.01],\n",
       "         [0.  , 0.  , 1.  , 0.  , 0.  , 0.  ],\n",
       "         [0.  , 0.  , 0.  , 0.  , 0.01, 0.  ]]]),\n",
       " array([[[0.  , 0.  , 0.  , 0.  , 0.  , 0.  ],\n",
       "         [0.  , 0.  , 0.  , 0.  , 0.  , 0.  ],\n",
       "         [0.  , 0.  , 0.  , 0.  , 0.  , 0.  ]],\n",
       " \n",
       "        [[0.  , 0.  , 0.  , 0.  , 0.  , 0.01],\n",
       "         [0.  , 0.  , 1.  , 0.  , 0.  , 0.  ],\n",
       "         [0.  , 0.  , 0.  , 0.  , 0.01, 0.  ]]]))"
      ]
     },
     "execution_count": 168,
     "metadata": {},
     "output_type": "execute_result"
    }
   ],
   "source": [
    "bot1.truth_matrix[:, :, set_id, :], bot1.inference_matrix[:, :, set_id, :]"
   ]
  },
  {
   "cell_type": "code",
   "execution_count": null,
   "metadata": {},
   "outputs": [],
   "source": []
  },
  {
   "cell_type": "code",
   "execution_count": null,
   "metadata": {},
   "outputs": [],
   "source": []
  },
  {
   "cell_type": "code",
   "execution_count": 98,
   "metadata": {},
   "outputs": [],
   "source": [
    "    # def _get_random_generator_state(self):\n",
    "    #     with open('randomiser_state.json', mode=\"r\") as file:\n",
    "    #         random_generator_state = tuple(json.loads(file.read()))\n",
    "    #     self.random_generator_state = random_generator_state"
   ]
  }
 ],
 "metadata": {
  "kernelspec": {
   "display_name": "base",
   "language": "python",
   "name": "python3"
  },
  "language_info": {
   "codemirror_mode": {
    "name": "ipython",
    "version": 3
   },
   "file_extension": ".py",
   "mimetype": "text/x-python",
   "name": "python",
   "nbconvert_exporter": "python",
   "pygments_lexer": "ipython3",
   "version": "3.10.9"
  },
  "orig_nbformat": 4
 },
 "nbformat": 4,
 "nbformat_minor": 2
}
