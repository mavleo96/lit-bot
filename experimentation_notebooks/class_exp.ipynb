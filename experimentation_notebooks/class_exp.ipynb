{
 "cells": [
  {
   "cell_type": "code",
   "execution_count": 2,
   "metadata": {},
   "outputs": [],
   "source": [
    "from abc import ABC, abstractmethod"
   ]
  },
  {
   "cell_type": "code",
   "execution_count": 79,
   "metadata": {},
   "outputs": [],
   "source": [
    "class Parent(ABC):\n",
    "    \"\"\"This is a parent class\n",
    "\n",
    "    Attributes:\n",
    "        a (int): a\n",
    "        b (int): b\n",
    "        sign (str): sign\n",
    "\n",
    "    \n",
    "    \"\"\"\n",
    "    def __init__(self, a, b):\n",
    "        self.a = a\n",
    "        self.b = b\n",
    "        self.a += 1\n",
    "        self.sign = \"parent\"\n",
    "\n",
    "        self.update1()\n",
    "\n",
    "    def update(self):\n",
    "        print(\"parent update\")\n",
    "        self.a += 100\n",
    "\n",
    "    def update1(self):\n",
    "        print(\"parent update\")\n",
    "        self.a += 100\n",
    "\n",
    "    def lock_parent(self):\n",
    "        pass\n",
    "\n",
    "    def print_sign(self):\n",
    "        print(self.sign)\n",
    "\n",
    "class Child(Parent):\n",
    "    def __init__(self, a, b, c):\n",
    "        super().__init__(a, b)\n",
    "        self.c = c\n",
    "        self.c -= 1\n",
    "        self.sign = self.sign + \"child\"\n",
    "\n",
    "    def update(self):\n",
    "        print(\"child update\")\n",
    "        self.a += 1000"
   ]
  },
  {
   "cell_type": "code",
   "execution_count": 80,
   "metadata": {},
   "outputs": [],
   "source": [
    "# optimer\n",
    "# ins_p.update()\n",
    "# ins_ch.update()"
   ]
  },
  {
   "cell_type": "code",
   "execution_count": 84,
   "metadata": {},
   "outputs": [
    {
     "name": "stdout",
     "output_type": "stream",
     "text": [
      "parent update\n",
      "parent update\n"
     ]
    }
   ],
   "source": [
    "temp = Child(1,2,4)\n",
    "temp2 = Parent(1,2)"
   ]
  },
  {
   "cell_type": "code",
   "execution_count": 85,
   "metadata": {},
   "outputs": [
    {
     "name": "stdout",
     "output_type": "stream",
     "text": [
      "child update\n"
     ]
    }
   ],
   "source": [
    "temp.update()"
   ]
  },
  {
   "cell_type": "code",
   "execution_count": 86,
   "metadata": {},
   "outputs": [
    {
     "name": "stdout",
     "output_type": "stream",
     "text": [
      "parent update\n"
     ]
    }
   ],
   "source": [
    "temp2.update()"
   ]
  },
  {
   "cell_type": "code",
   "execution_count": 69,
   "metadata": {},
   "outputs": [
    {
     "name": "stdout",
     "output_type": "stream",
     "text": [
      "parentchild\n"
     ]
    }
   ],
   "source": [
    "temp.print_sign()"
   ]
  },
  {
   "cell_type": "code",
   "execution_count": 68,
   "metadata": {},
   "outputs": [
    {
     "data": {
      "text/plain": [
       "'parentchild'"
      ]
     },
     "execution_count": 68,
     "metadata": {},
     "output_type": "execute_result"
    }
   ],
   "source": [
    "temp.sign"
   ]
  },
  {
   "cell_type": "code",
   "execution_count": null,
   "metadata": {},
   "outputs": [],
   "source": [
    "q = CustomROICurve()"
   ]
  },
  {
   "cell_type": "code",
   "execution_count": 6,
   "metadata": {},
   "outputs": [
    {
     "data": {
      "text/plain": [
       "2002"
      ]
     },
     "execution_count": 6,
     "metadata": {},
     "output_type": "execute_result"
    }
   ],
   "source": [
    "temp.a"
   ]
  },
  {
   "cell_type": "code",
   "execution_count": 4,
   "metadata": {},
   "outputs": [
    {
     "data": {
      "text/plain": [
       "1002"
      ]
     },
     "execution_count": 4,
     "metadata": {},
     "output_type": "execute_result"
    }
   ],
   "source": [
    "temp.a"
   ]
  },
  {
   "cell_type": "code",
   "execution_count": null,
   "metadata": {},
   "outputs": [],
   "source": []
  }
 ],
 "metadata": {
  "kernelspec": {
   "display_name": "insights_miner",
   "language": "python",
   "name": "python3"
  },
  "language_info": {
   "codemirror_mode": {
    "name": "ipython",
    "version": 3
   },
   "file_extension": ".py",
   "mimetype": "text/x-python",
   "name": "python",
   "nbconvert_exporter": "python",
   "pygments_lexer": "ipython3",
   "version": "3.10.9"
  },
  "orig_nbformat": 4
 },
 "nbformat": 4,
 "nbformat_minor": 2
}
