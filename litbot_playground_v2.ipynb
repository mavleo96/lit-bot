{
 "cells": [
  {
   "cell_type": "code",
   "execution_count": 37,
   "metadata": {},
   "outputs": [],
   "source": [
    "import pandas as pd\n",
    "import numpy as np\n",
    "import itertools\n",
    "import json\n",
    "import copy\n",
    "\n",
    "class LitBot:\n",
    "    EPSILON = 0.01\n",
    "    def __init__(self, team_id, player_id, player_count, game_state_array=None, fake_game_seed = None):\n",
    "\n",
    "        self.team_id = team_id\n",
    "        self.player_id = player_id\n",
    "        self.player_count = player_count\n",
    "\n",
    "        if fake_game_seed is not None:\n",
    "            (\n",
    "                self._fake_initial_game_state_array,\n",
    "                self._fake_initial_card_location_array\n",
    "            ) =  self.initialize_fake_game(fake_game_seed)\n",
    "            self.initialize_matrix(self.team_id, self.player_id, self._fake_initial_game_state_array[0, 0])\n",
    "        elif game_state_array is not None:\n",
    "            self.initialize_matrix(self.team_id, self.player_id, game_state_array)\n",
    "    \n",
    "    def initialize_fake_game(self, fake_game_seed):\n",
    "        \n",
    "        np.random.seed(fake_game_seed)\n",
    "        card_location_array = np.random.choice(range(self.player_count), (8,6))\n",
    "        card_location_array_team = card_location_array%2\n",
    "        card_location_array_player = card_location_array//2\n",
    "\n",
    "        game_state_array = np.zeros((2, self.player_count//2, 8, 6))\n",
    "        for set_id, card_id in itertools.product(range(8), range(6)):\n",
    "            game_state_array[\n",
    "                card_location_array_team[set_id, card_id],\n",
    "                card_location_array_player[set_id, card_id],\n",
    "                set_id,        \n",
    "                card_id\n",
    "            ] = 1\n",
    "        \n",
    "        return game_state_array, card_location_array\n",
    "    \n",
    "    def dynamic_state(self, team_id, player_id, set_id, card_id, inference):\n",
    "\n",
    "        return 1\n",
    "\n",
    "    def initialize_matrix(self, team_id, player_id, player_array):\n",
    "\n",
    "        self.information_matrix = np.full((2, self.player_count//2, 8, 6), LitBot.EPSILON)\n",
    "        self.filler = np.full((8,6), self.dynamic_state)\n",
    "\n",
    "        for team_idx, player_idx in itertools.product(range(2), range(self.player_count//2)):\n",
    "            if (team_idx == team_id) and (player_idx == player_id):\n",
    "                self.information_matrix[team_idx, player_idx, :, :] = np.where(player_array == 1, 1, 0)\n",
    "            else:\n",
    "                self.information_matrix[team_idx, player_idx, :, :] = np.where(player_array == 1, 0, LitBot.EPSILON)\n",
    "\n",
    "        self.inferences_list = {\n",
    "            0 : [],\n",
    "            1 : [],\n",
    "            2 : [],\n",
    "            3 : [],\n",
    "            4 : [],\n",
    "            5 : [],\n",
    "            6 : [],\n",
    "            7 : []\n",
    "        }  # inference will be stored as {active cards array copy : 1}"
   ]
  },
  {
   "cell_type": "code",
   "execution_count": 32,
   "metadata": {},
   "outputs": [],
   "source": [
    "bot1 = LitBot(0,0, 6,fake_game_seed=0)"
   ]
  },
  {
   "cell_type": "code",
   "execution_count": 35,
   "metadata": {},
   "outputs": [
    {
     "data": {
      "text/plain": [
       "array([], shape=(0, 8, 6), dtype=object)"
      ]
     },
     "execution_count": 35,
     "metadata": {},
     "output_type": "execute_result"
    }
   ],
   "source": [
    "bot1.filler[hasattr(bot1.filler, \"__call__\")]"
   ]
  },
  {
   "cell_type": "code",
   "execution_count": 36,
   "metadata": {},
   "outputs": [
    {
     "data": {
      "text/plain": [
       "False"
      ]
     },
     "execution_count": 36,
     "metadata": {},
     "output_type": "execute_result"
    }
   ],
   "source": [
    "hasattr(bot1.filler, \"__call__\")"
   ]
  },
  {
   "cell_type": "code",
   "execution_count": null,
   "metadata": {},
   "outputs": [],
   "source": []
  }
 ],
 "metadata": {
  "kernelspec": {
   "display_name": "insights_miner",
   "language": "python",
   "name": "python3"
  },
  "language_info": {
   "codemirror_mode": {
    "name": "ipython",
    "version": 3
   },
   "file_extension": ".py",
   "mimetype": "text/x-python",
   "name": "python",
   "nbconvert_exporter": "python",
   "pygments_lexer": "ipython3",
   "version": "3.10.9"
  },
  "orig_nbformat": 4
 },
 "nbformat": 4,
 "nbformat_minor": 2
}
