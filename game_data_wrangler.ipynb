{
 "cells": [
  {
   "cell_type": "code",
   "execution_count": 1,
   "metadata": {},
   "outputs": [],
   "source": [
    "import pandas as pd\n",
    "import numpy as np\n",
    "import json"
   ]
  },
  {
   "cell_type": "code",
   "execution_count": 2,
   "metadata": {},
   "outputs": [],
   "source": [
    "with open(\"gameData.json\") as f:\n",
    "    data = f.read()"
   ]
  },
  {
   "cell_type": "code",
   "execution_count": 3,
   "metadata": {},
   "outputs": [],
   "source": [
    "data = json.loads(data)"
   ]
  },
  {
   "cell_type": "code",
   "execution_count": 4,
   "metadata": {},
   "outputs": [
    {
     "data": {
      "text/plain": [
       "('2CEM4E',\n",
       " 'b65626d0-109a-45eb-ae68-9a08a34db453',\n",
       " '2023-06-03T11:54:33.201Z',\n",
       " 'efd90d8c-9fb5-46ff-9ee6-f5af60752b36',\n",
       " 'zxkxx5zfowygsj0xoe5kp9dj',\n",
       " 6,\n",
       " 'IN_PROGRESS')"
      ]
     },
     "execution_count": 4,
     "metadata": {},
     "output_type": "execute_result"
    }
   ],
   "source": [
    "data[\"code\"], data[\"createdBy\"], data[\"createdTimestamp\"], data[\"currentTurn\"], data[\"id\"], data[\"playerCount\"], data[\"status\"]"
   ]
  },
  {
   "cell_type": "code",
   "execution_count": 5,
   "metadata": {},
   "outputs": [],
   "source": [
    "encodings = {\n",
    "    \"team\" : {\n",
    "        \"Team Bot\" : 0,\n",
    "        \"Team Human\" : 1\n",
    "    },\n",
    "    \"players\" : {\n",
    "        0 : {\n",
    "            \"3aebe0fd-5569-4ff8-b1ec-59a0e8d83a6f\" : 0,\n",
    "            \"b65626d0-109a-45eb-ae68-9a08a34db453\" : 1,\n",
    "            \"6aaacb16-3eee-4fb3-9ef7-0a47302d2cc4\" : 2\n",
    "        },\n",
    "        1 : {\n",
    "            \"34192b70-263a-4d1e-86d1-35c1a5ec1ac6\" : 0,\n",
    "            \"ec4faa9b-9e42-4439-a680-b56620ea28c6\" : 1,\n",
    "            \"efd90d8c-9fb5-46ff-9ee6-f5af60752b36\" : 2\n",
    "        },\n",
    "    },\n",
    "    \"players_map\" : {\n",
    "        \"3aebe0fd-5569-4ff8-b1ec-59a0e8d83a6f\" : 0,\n",
    "        \"b65626d0-109a-45eb-ae68-9a08a34db453\" : 1,\n",
    "        \"6aaacb16-3eee-4fb3-9ef7-0a47302d2cc4\" : 2,\n",
    "        \"34192b70-263a-4d1e-86d1-35c1a5ec1ac6\" : 3,\n",
    "        \"ec4faa9b-9e42-4439-a680-b56620ea28c6\" : 4,\n",
    "        \"efd90d8c-9fb5-46ff-9ee6-f5af60752b36\" : 5\n",
    "    },\n",
    "    \"player_name\" : {\n",
    "        \"34192b70-263a-4d1e-86d1-35c1a5ec1ac6\" : \"Yash Gupta\",\n",
    "        \"3aebe0fd-5569-4ff8-b1ec-59a0e8d83a6f\" : \"Pratik Manghwani\",\n",
    "        \"6aaacb16-3eee-4fb3-9ef7-0a47302d2cc4\" : \"Swarnava Das\",\n",
    "        \"b65626d0-109a-45eb-ae68-9a08a34db453\" : \"Vijayabharathi Murugan\",\n",
    "        \"ec4faa9b-9e42-4439-a680-b56620ea28c6\" : \"Yash Khivasara\",\n",
    "        \"efd90d8c-9fb5-46ff-9ee6-f5af60752b36\" : \"Preetam Sekhar\"\n",
    "    },\n",
    "    \"game_id\" : \"zxkxx5zfowygsj0xoe5kp9dj\"\n",
    "}\n"
   ]
  },
  {
   "cell_type": "code",
   "execution_count": 6,
   "metadata": {},
   "outputs": [],
   "source": [
    "set_encoding = {\n",
    "    \"suit\" : {\n",
    "        0 : \"lower_hearts\",\n",
    "        1 : \"lower_diamonds\",\n",
    "        2 : \"lower_spades\",\n",
    "        3 : \"lower_clubs\",\n",
    "        4 : \"upper_hearts\",\n",
    "        5 : \"upper_diamonds\",\n",
    "        6 : \"upper_spades\",\n",
    "        7 : \"upper_clubs\",\n",
    "    },\n",
    "    \"set_id_type\" : {\n",
    "        0 : \"lower\",\n",
    "        1 : \"lower\",\n",
    "        2 : \"lower\",\n",
    "        3 : \"lower\",\n",
    "        4 : \"upper\",\n",
    "        5 : \"upper\",\n",
    "        6 : \"upper\",\n",
    "        7 : \"upper\",\n",
    "    },\n",
    "    \"card_id\" : {\n",
    "        \"lower\" : {\n",
    "            0 : \"ace\",\n",
    "            1 : \"two\",\n",
    "            2 : \"three\",\n",
    "            3 : \"four\",\n",
    "            4 : \"five\",\n",
    "            5 : \"six\",\n",
    "        },\n",
    "        \"upper\" : {\n",
    "            0 : \"eight\",\n",
    "            1 : \"nine\",\n",
    "            2 : \"ten\",\n",
    "            3 : \"jack\",\n",
    "            4 : \"queen\",\n",
    "            5 : \"king\",\n",
    "        }\n",
    "    }\n",
    "}"
   ]
  },
  {
   "cell_type": "code",
   "execution_count": 7,
   "metadata": {},
   "outputs": [],
   "source": [
    "game_array = np.full((8,6), -1)"
   ]
  },
  {
   "cell_type": "code",
   "execution_count": 8,
   "metadata": {},
   "outputs": [],
   "source": [
    "def infer_ids(card_dict):\n",
    "    rank = card_dict[\"rank\"].lower()\n",
    "    suit = card_dict[\"suit\"].lower()\n",
    "    set_id_type = [i for i,j in set_encoding[\"card_id\"].items() if rank in j.values()][0]\n",
    "    set_id = [i for i,j in set_encoding[\"suit\"].items() if set_id_type+\"_\"+suit == j][0]\n",
    "    card_id = [i for i,j in set_encoding[\"card_id\"][set_id_type].items() if rank == j][0]\n",
    "\n",
    "    return set_id, card_id"
   ]
  },
  {
   "cell_type": "code",
   "execution_count": 9,
   "metadata": {},
   "outputs": [],
   "source": [
    "for move in data[\"moves\"]:\n",
    "    if (move[\"actionData\"][\"action\"] == \"ASK\") and move[\"resultData\"][\"success\"]:\n",
    "\n",
    "        card_dict = move[\"actionData\"][\"askData\"][\"card\"]\n",
    "        set_id, card_id = infer_ids(card_dict)\n",
    "\n",
    "        if set_id == 3:\n",
    "            pass\n",
    "        else:\n",
    "            ask_player_id = encodings[\"players_map\"][move[\"actionData\"][\"askData\"][\"by\"]]\n",
    "            ans_player_id = encodings[\"players_map\"][move[\"actionData\"][\"askData\"][\"from\"]]\n",
    "\n",
    "            # assert game_array[set_id, card_id] == ask_player_id\n",
    "            game_array[set_id, card_id] = ans_player_id\n",
    "        \n",
    "    elif (move[\"actionData\"][\"action\"] == \"CALL_SET\") and move[\"resultData\"][\"success\"]:\n",
    "\n",
    "        if move[\"actionData\"][\"callData\"][\"set\"].lower() == \"small clubs\":\n",
    "            pass\n",
    "        else:\n",
    "            for player_id, card_list in move[\"actionData\"][\"callData\"][\"data\"].items():\n",
    "                for card_dict in card_list:\n",
    "                    set_id, card_id = infer_ids(card_dict)\n",
    "\n",
    "                    game_array[set_id, card_id] = encodings[\"players_map\"][player_id]\n",
    "    else:\n",
    "        pass"
   ]
  },
  {
   "cell_type": "code",
   "execution_count": 10,
   "metadata": {},
   "outputs": [],
   "source": [
    "k = []\n",
    "for move in data[\"moves\"]:\n",
    "    if (move[\"actionData\"][\"action\"] == \"ASK\"):\n",
    "\n",
    "        card_dict = move[\"actionData\"][\"askData\"][\"card\"]\n",
    "        set_id, card_id = infer_ids(card_dict)\n",
    "\n",
    "        if set_id == 3:\n",
    "            k.append(move)\n",
    "       \n",
    "    elif (move[\"actionData\"][\"action\"] == \"CALL_SET\"):\n",
    "\n",
    "        if move[\"actionData\"][\"callData\"][\"set\"].lower() == \"small clubs\":\n",
    "            k.append(move)\n",
    "    else:\n",
    "        pass"
   ]
  },
  {
   "cell_type": "code",
   "execution_count": 11,
   "metadata": {},
   "outputs": [],
   "source": [
    "game_array[3, :] = [1, 0, 2, 0, 1, 2]"
   ]
  },
  {
   "cell_type": "code",
   "execution_count": 16,
   "metadata": {},
   "outputs": [],
   "source": [
    "action_dict_list = {}\n",
    "count = -1\n",
    "for move in data[\"moves\"][::-1]:\n",
    "    if (move[\"actionData\"][\"action\"] == \"ASK\"):\n",
    "\n",
    "        card_dict = move[\"actionData\"][\"askData\"][\"card\"]\n",
    "        set_id, card_id = infer_ids(card_dict)\n",
    "\n",
    "        ask_player_id = encodings[\"players_map\"][move[\"actionData\"][\"askData\"][\"by\"]]\n",
    "        ans_player_id = encodings[\"players_map\"][move[\"actionData\"][\"askData\"][\"from\"]]\n",
    "\n",
    "        # assert game_array[set_id, card_id] == ask_player_id\n",
    "        action_dict = {\n",
    "            \"action\" : \"ask_card\",\n",
    "            \"by_team\" : 0 if ask_player_id>=3 else 1,\n",
    "            \"by\" : ask_player_id-3 if ask_player_id>=3 else ask_player_id,\n",
    "            \"to_team\" : 0 if ans_player_id>=3 else 1,\n",
    "            \"to\" : ans_player_id-3 if ans_player_id>=3 else ans_player_id,\n",
    "            \"set_id\" : set_id,\n",
    "            \"card_id\" : card_id,\n",
    "            \"result\" : 1 if move[\"resultData\"][\"success\"] else 0\n",
    "        }\n",
    "\n",
    "        count += 1\n",
    "        action_dict_list = action_dict_list | {count : action_dict}\n",
    "        \n",
    "    elif (move[\"actionData\"][\"action\"] == \"CALL_SET\"):\n",
    "\n",
    "        pass\n",
    "        # if move[\"actionData\"][\"callData\"][\"set\"].lower() == \"small clubs\":\n",
    "        #     pass\n",
    "        # else:\n",
    "        #     for player_id, card_list in move[\"actionData\"][\"callData\"][\"data\"].items():\n",
    "        #         for card_dict in card_list:\n",
    "        #             set_id, card_id = infer_ids(card_dict)\n",
    "\n",
    "        #             game_array[set_id, card_id] = encodings[\"players_map\"][player_id]\n",
    "    else:\n",
    "        pass"
   ]
  },
  {
   "cell_type": "code",
   "execution_count": 31,
   "metadata": {},
   "outputs": [],
   "source": [
    "action_data_json = {\n",
    "    \"game_id\" : data[\"id\"],\n",
    "    \"game_code\" : data[\"code\"],\n",
    "    \"player_count\" : data[\"playerCount\"],\n",
    "    \"actions\" : action_dict_list,\n",
    "    \"card_location_array\" : game_array.tolist()\n",
    "}"
   ]
  },
  {
   "cell_type": "code",
   "execution_count": 32,
   "metadata": {},
   "outputs": [],
   "source": [
    "with open(\"gameActionData.json\", mode=\"w\") as f:\n",
    "    f.write(json.dumps(action_data_json))"
   ]
  },
  {
   "cell_type": "code",
   "execution_count": null,
   "metadata": {},
   "outputs": [],
   "source": []
  }
 ],
 "metadata": {
  "kernelspec": {
   "display_name": "MMM3",
   "language": "python",
   "name": "python3"
  },
  "language_info": {
   "codemirror_mode": {
    "name": "ipython",
    "version": 3
   },
   "file_extension": ".py",
   "mimetype": "text/x-python",
   "name": "python",
   "nbconvert_exporter": "python",
   "pygments_lexer": "ipython3",
   "version": "3.10.9"
  },
  "orig_nbformat": 4
 },
 "nbformat": 4,
 "nbformat_minor": 2
}
